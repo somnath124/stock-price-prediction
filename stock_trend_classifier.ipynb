{
 "cells": [
  {
   "cell_type": "code",
   "execution_count": 3,
   "id": "0783c41d-3606-41e9-95e7-3b185043a632",
   "metadata": {},
   "outputs": [
    {
     "name": "stdout",
     "output_type": "stream",
     "text": [
      "Requirement already satisfied: yfinance in c:\\users\\maruf\\anaconda3\\envs\\b42_new_envo\\lib\\site-packages (0.2.61)\n",
      "Requirement already satisfied: pandas>=1.3.0 in c:\\users\\maruf\\anaconda3\\envs\\b42_new_envo\\lib\\site-packages (from yfinance) (2.2.3)\n",
      "Requirement already satisfied: numpy>=1.16.5 in c:\\users\\maruf\\anaconda3\\envs\\b42_new_envo\\lib\\site-packages (from yfinance) (1.26.4)\n",
      "Requirement already satisfied: requests>=2.31 in c:\\users\\maruf\\anaconda3\\envs\\b42_new_envo\\lib\\site-packages (from yfinance) (2.32.3)\n",
      "Requirement already satisfied: multitasking>=0.0.7 in c:\\users\\maruf\\anaconda3\\envs\\b42_new_envo\\lib\\site-packages (from yfinance) (0.0.11)\n",
      "Requirement already satisfied: platformdirs>=2.0.0 in c:\\users\\maruf\\anaconda3\\envs\\b42_new_envo\\lib\\site-packages (from yfinance) (3.10.0)\n",
      "Requirement already satisfied: pytz>=2022.5 in c:\\users\\maruf\\anaconda3\\envs\\b42_new_envo\\lib\\site-packages (from yfinance) (2024.1)\n",
      "Requirement already satisfied: frozendict>=2.3.4 in c:\\users\\maruf\\anaconda3\\envs\\b42_new_envo\\lib\\site-packages (from yfinance) (2.4.6)\n",
      "Requirement already satisfied: peewee>=3.16.2 in c:\\users\\maruf\\anaconda3\\envs\\b42_new_envo\\lib\\site-packages (from yfinance) (3.18.1)\n",
      "Requirement already satisfied: beautifulsoup4>=4.11.1 in c:\\users\\maruf\\anaconda3\\envs\\b42_new_envo\\lib\\site-packages (from yfinance) (4.12.3)\n",
      "Requirement already satisfied: curl_cffi>=0.7 in c:\\users\\maruf\\anaconda3\\envs\\b42_new_envo\\lib\\site-packages (from yfinance) (0.11.1)\n",
      "Requirement already satisfied: protobuf>=3.19.0 in c:\\users\\maruf\\anaconda3\\envs\\b42_new_envo\\lib\\site-packages (from yfinance) (6.31.0)\n",
      "Requirement already satisfied: websockets>=13.0 in c:\\users\\maruf\\anaconda3\\envs\\b42_new_envo\\lib\\site-packages (from yfinance) (15.0.1)\n",
      "Requirement already satisfied: soupsieve>1.2 in c:\\users\\maruf\\anaconda3\\envs\\b42_new_envo\\lib\\site-packages (from beautifulsoup4>=4.11.1->yfinance) (2.5)\n",
      "Requirement already satisfied: cffi>=1.12.0 in c:\\users\\maruf\\anaconda3\\envs\\b42_new_envo\\lib\\site-packages (from curl_cffi>=0.7->yfinance) (1.17.1)\n",
      "Requirement already satisfied: certifi>=2024.2.2 in c:\\users\\maruf\\anaconda3\\envs\\b42_new_envo\\lib\\site-packages (from curl_cffi>=0.7->yfinance) (2025.1.31)\n",
      "Requirement already satisfied: python-dateutil>=2.8.2 in c:\\users\\maruf\\anaconda3\\envs\\b42_new_envo\\lib\\site-packages (from pandas>=1.3.0->yfinance) (2.9.0.post0)\n",
      "Requirement already satisfied: tzdata>=2022.7 in c:\\users\\maruf\\anaconda3\\envs\\b42_new_envo\\lib\\site-packages (from pandas>=1.3.0->yfinance) (2023.3)\n",
      "Requirement already satisfied: charset-normalizer<4,>=2 in c:\\users\\maruf\\anaconda3\\envs\\b42_new_envo\\lib\\site-packages (from requests>=2.31->yfinance) (3.3.2)\n",
      "Requirement already satisfied: idna<4,>=2.5 in c:\\users\\maruf\\anaconda3\\envs\\b42_new_envo\\lib\\site-packages (from requests>=2.31->yfinance) (3.7)\n",
      "Requirement already satisfied: urllib3<3,>=1.21.1 in c:\\users\\maruf\\anaconda3\\envs\\b42_new_envo\\lib\\site-packages (from requests>=2.31->yfinance) (2.3.0)\n",
      "Requirement already satisfied: pycparser in c:\\users\\maruf\\anaconda3\\envs\\b42_new_envo\\lib\\site-packages (from cffi>=1.12.0->curl_cffi>=0.7->yfinance) (2.21)\n",
      "Requirement already satisfied: six>=1.5 in c:\\users\\maruf\\anaconda3\\envs\\b42_new_envo\\lib\\site-packages (from python-dateutil>=2.8.2->pandas>=1.3.0->yfinance) (1.16.0)\n"
     ]
    }
   ],
   "source": [
    "!pip install yfinance\n"
   ]
  },
  {
   "cell_type": "code",
   "execution_count": 5,
   "id": "1e5af1b6-8e78-4ce4-80a8-e897bf2306d0",
   "metadata": {},
   "outputs": [
    {
     "name": "stderr",
     "output_type": "stream",
     "text": [
      "[*********************100%***********************]  1 of 1 completed\n"
     ]
    }
   ],
   "source": [
    "import yfinance as yf\n",
    "import pandas as pd\n",
    "\n",
    "ticker = 'AAPL'\n",
    "data = yf.download(ticker, start=\"2018-01-01\", end=\"2023-12-31\")\n"
   ]
  },
  {
   "cell_type": "code",
   "execution_count": 11,
   "id": "da34741d-8c53-4b1f-b311-20c08960855c",
   "metadata": {},
   "outputs": [
    {
     "data": {
      "text/html": [
       "<div>\n",
       "<style scoped>\n",
       "    .dataframe tbody tr th:only-of-type {\n",
       "        vertical-align: middle;\n",
       "    }\n",
       "\n",
       "    .dataframe tbody tr th {\n",
       "        vertical-align: top;\n",
       "    }\n",
       "\n",
       "    .dataframe thead tr th {\n",
       "        text-align: left;\n",
       "    }\n",
       "\n",
       "    .dataframe thead tr:last-of-type th {\n",
       "        text-align: right;\n",
       "    }\n",
       "</style>\n",
       "<table border=\"1\" class=\"dataframe\">\n",
       "  <thead>\n",
       "    <tr>\n",
       "      <th>Price</th>\n",
       "      <th>Close</th>\n",
       "      <th>High</th>\n",
       "      <th>Low</th>\n",
       "      <th>Open</th>\n",
       "      <th>Volume</th>\n",
       "      <th>Return</th>\n",
       "      <th>MA5</th>\n",
       "      <th>MA10</th>\n",
       "      <th>MA20</th>\n",
       "      <th>Label</th>\n",
       "      <th>Prediction</th>\n",
       "    </tr>\n",
       "    <tr>\n",
       "      <th>Ticker</th>\n",
       "      <th>AAPL</th>\n",
       "      <th>AAPL</th>\n",
       "      <th>AAPL</th>\n",
       "      <th>AAPL</th>\n",
       "      <th>AAPL</th>\n",
       "      <th></th>\n",
       "      <th></th>\n",
       "      <th></th>\n",
       "      <th></th>\n",
       "      <th></th>\n",
       "      <th></th>\n",
       "    </tr>\n",
       "    <tr>\n",
       "      <th>Date</th>\n",
       "      <th></th>\n",
       "      <th></th>\n",
       "      <th></th>\n",
       "      <th></th>\n",
       "      <th></th>\n",
       "      <th></th>\n",
       "      <th></th>\n",
       "      <th></th>\n",
       "      <th></th>\n",
       "      <th></th>\n",
       "      <th></th>\n",
       "    </tr>\n",
       "  </thead>\n",
       "  <tbody>\n",
       "    <tr>\n",
       "      <th>2018-01-30</th>\n",
       "      <td>39.185345</td>\n",
       "      <td>39.279217</td>\n",
       "      <td>38.652609</td>\n",
       "      <td>38.847398</td>\n",
       "      <td>184192800</td>\n",
       "      <td>-0.005894</td>\n",
       "      <td>39.979517</td>\n",
       "      <td>40.896900</td>\n",
       "      <td>40.913563</td>\n",
       "      <td>1</td>\n",
       "      <td>0</td>\n",
       "    </tr>\n",
       "    <tr>\n",
       "      <th>2018-01-31</th>\n",
       "      <td>39.293293</td>\n",
       "      <td>39.530327</td>\n",
       "      <td>39.075038</td>\n",
       "      <td>39.161870</td>\n",
       "      <td>129915600</td>\n",
       "      <td>0.002755</td>\n",
       "      <td>39.660814</td>\n",
       "      <td>40.623022</td>\n",
       "      <td>40.856886</td>\n",
       "      <td>1</td>\n",
       "      <td>0</td>\n",
       "    </tr>\n",
       "    <tr>\n",
       "      <th>2018-02-01</th>\n",
       "      <td>39.375435</td>\n",
       "      <td>39.572569</td>\n",
       "      <td>39.136055</td>\n",
       "      <td>39.232277</td>\n",
       "      <td>188923200</td>\n",
       "      <td>0.002090</td>\n",
       "      <td>39.504514</td>\n",
       "      <td>40.353605</td>\n",
       "      <td>40.804668</td>\n",
       "      <td>0</td>\n",
       "      <td>0</td>\n",
       "    </tr>\n",
       "    <tr>\n",
       "      <th>2018-02-02</th>\n",
       "      <td>37.666931</td>\n",
       "      <td>39.145447</td>\n",
       "      <td>37.573059</td>\n",
       "      <td>38.957698</td>\n",
       "      <td>346375200</td>\n",
       "      <td>-0.043390</td>\n",
       "      <td>38.987737</td>\n",
       "      <td>39.932110</td>\n",
       "      <td>40.657638</td>\n",
       "      <td>0</td>\n",
       "      <td>0</td>\n",
       "    </tr>\n",
       "    <tr>\n",
       "      <th>2018-02-05</th>\n",
       "      <td>36.725849</td>\n",
       "      <td>38.460171</td>\n",
       "      <td>36.610852</td>\n",
       "      <td>37.338377</td>\n",
       "      <td>290954000</td>\n",
       "      <td>-0.024984</td>\n",
       "      <td>38.449371</td>\n",
       "      <td>39.450772</td>\n",
       "      <td>40.440438</td>\n",
       "      <td>1</td>\n",
       "      <td>0</td>\n",
       "    </tr>\n",
       "    <tr>\n",
       "      <th>...</th>\n",
       "      <td>...</td>\n",
       "      <td>...</td>\n",
       "      <td>...</td>\n",
       "      <td>...</td>\n",
       "      <td>...</td>\n",
       "      <td>...</td>\n",
       "      <td>...</td>\n",
       "      <td>...</td>\n",
       "      <td>...</td>\n",
       "      <td>...</td>\n",
       "      <td>...</td>\n",
       "    </tr>\n",
       "    <tr>\n",
       "      <th>2023-12-22</th>\n",
       "      <td>192.192551</td>\n",
       "      <td>193.989390</td>\n",
       "      <td>191.567126</td>\n",
       "      <td>193.761051</td>\n",
       "      <td>37122800</td>\n",
       "      <td>-0.005547</td>\n",
       "      <td>193.768997</td>\n",
       "      <td>194.323940</td>\n",
       "      <td>192.260548</td>\n",
       "      <td>0</td>\n",
       "      <td>1</td>\n",
       "    </tr>\n",
       "    <tr>\n",
       "      <th>2023-12-26</th>\n",
       "      <td>191.646545</td>\n",
       "      <td>192.480435</td>\n",
       "      <td>191.428144</td>\n",
       "      <td>192.202472</td>\n",
       "      <td>28919300</td>\n",
       "      <td>-0.002841</td>\n",
       "      <td>193.205130</td>\n",
       "      <td>194.311034</td>\n",
       "      <td>192.422363</td>\n",
       "      <td>1</td>\n",
       "      <td>0</td>\n",
       "    </tr>\n",
       "    <tr>\n",
       "      <th>2023-12-27</th>\n",
       "      <td>191.745834</td>\n",
       "      <td>192.093296</td>\n",
       "      <td>189.700813</td>\n",
       "      <td>191.090644</td>\n",
       "      <td>48087700</td>\n",
       "      <td>0.000518</td>\n",
       "      <td>192.452643</td>\n",
       "      <td>194.156168</td>\n",
       "      <td>192.558864</td>\n",
       "      <td>1</td>\n",
       "      <td>1</td>\n",
       "    </tr>\n",
       "    <tr>\n",
       "      <th>2023-12-28</th>\n",
       "      <td>192.172699</td>\n",
       "      <td>193.244849</td>\n",
       "      <td>191.765676</td>\n",
       "      <td>192.728625</td>\n",
       "      <td>34049900</td>\n",
       "      <td>0.002226</td>\n",
       "      <td>192.204459</td>\n",
       "      <td>193.721353</td>\n",
       "      <td>192.767834</td>\n",
       "      <td>0</td>\n",
       "      <td>1</td>\n",
       "    </tr>\n",
       "    <tr>\n",
       "      <th>2023-12-29</th>\n",
       "      <td>191.130310</td>\n",
       "      <td>192.986710</td>\n",
       "      <td>190.336123</td>\n",
       "      <td>192.490345</td>\n",
       "      <td>42628800</td>\n",
       "      <td>-0.005424</td>\n",
       "      <td>191.777588</td>\n",
       "      <td>193.167407</td>\n",
       "      <td>192.895896</td>\n",
       "      <td>0</td>\n",
       "      <td>1</td>\n",
       "    </tr>\n",
       "  </tbody>\n",
       "</table>\n",
       "<p>1490 rows × 11 columns</p>\n",
       "</div>"
      ],
      "text/plain": [
       "Price            Close        High         Low        Open     Volume  \\\n",
       "Ticker            AAPL        AAPL        AAPL        AAPL       AAPL   \n",
       "Date                                                                    \n",
       "2018-01-30   39.185345   39.279217   38.652609   38.847398  184192800   \n",
       "2018-01-31   39.293293   39.530327   39.075038   39.161870  129915600   \n",
       "2018-02-01   39.375435   39.572569   39.136055   39.232277  188923200   \n",
       "2018-02-02   37.666931   39.145447   37.573059   38.957698  346375200   \n",
       "2018-02-05   36.725849   38.460171   36.610852   37.338377  290954000   \n",
       "...                ...         ...         ...         ...        ...   \n",
       "2023-12-22  192.192551  193.989390  191.567126  193.761051   37122800   \n",
       "2023-12-26  191.646545  192.480435  191.428144  192.202472   28919300   \n",
       "2023-12-27  191.745834  192.093296  189.700813  191.090644   48087700   \n",
       "2023-12-28  192.172699  193.244849  191.765676  192.728625   34049900   \n",
       "2023-12-29  191.130310  192.986710  190.336123  192.490345   42628800   \n",
       "\n",
       "Price         Return         MA5        MA10        MA20 Label Prediction  \n",
       "Ticker                                                                     \n",
       "Date                                                                       \n",
       "2018-01-30 -0.005894   39.979517   40.896900   40.913563     1          0  \n",
       "2018-01-31  0.002755   39.660814   40.623022   40.856886     1          0  \n",
       "2018-02-01  0.002090   39.504514   40.353605   40.804668     0          0  \n",
       "2018-02-02 -0.043390   38.987737   39.932110   40.657638     0          0  \n",
       "2018-02-05 -0.024984   38.449371   39.450772   40.440438     1          0  \n",
       "...              ...         ...         ...         ...   ...        ...  \n",
       "2023-12-22 -0.005547  193.768997  194.323940  192.260548     0          1  \n",
       "2023-12-26 -0.002841  193.205130  194.311034  192.422363     1          0  \n",
       "2023-12-27  0.000518  192.452643  194.156168  192.558864     1          1  \n",
       "2023-12-28  0.002226  192.204459  193.721353  192.767834     0          1  \n",
       "2023-12-29 -0.005424  191.777588  193.167407  192.895896     0          1  \n",
       "\n",
       "[1490 rows x 11 columns]"
      ]
     },
     "execution_count": 11,
     "metadata": {},
     "output_type": "execute_result"
    }
   ],
   "source": [
    "data"
   ]
  },
  {
   "cell_type": "code",
   "execution_count": 6,
   "id": "a42ef2cb-9ae0-422c-8e8e-1b11e2e51afc",
   "metadata": {},
   "outputs": [],
   "source": [
    "data['Return'] = data['Close'].pct_change()\n",
    "data['MA5'] = data['Close'].rolling(window=5).mean()\n",
    "data['MA10'] = data['Close'].rolling(window=10).mean()\n",
    "data['MA20'] = data['Close'].rolling(window=20).mean()\n",
    "data['Label'] = data['Close'].shift(-1) > data['Close'] \n",
    "data['Label'] = data['Label'].astype(int) \n",
    "\n",
    "data.dropna(inplace=True)\n"
   ]
  },
  {
   "cell_type": "code",
   "execution_count": 7,
   "id": "ab47bb09-31a2-4289-bdb9-7f10442d0052",
   "metadata": {},
   "outputs": [],
   "source": [
    "from sklearn.model_selection import train_test_split\n",
    "from sklearn.preprocessing import StandardScaler\n",
    "\n",
    "features = ['Return', 'MA5', 'MA10', 'MA20']\n",
    "X = data[features]\n",
    "y = data['Label']\n",
    "\n",
    "scaler = StandardScaler()\n",
    "X_scaled = scaler.fit_transform(X)\n",
    "\n",
    "X_train, X_test, y_train, y_test = train_test_split(X_scaled, y, test_size=0.2, random_state=42)\n"
   ]
  },
  {
   "cell_type": "code",
   "execution_count": 13,
   "id": "6a96ab8d-86ed-4030-a85a-764bd90f2b10",
   "metadata": {},
   "outputs": [
    {
     "data": {
      "text/plain": [
       "array([[-0.60988974,  0.87131081,  0.88249367,  0.98266365],\n",
       "       [-0.25392179,  0.45036267,  0.50291362,  0.6148252 ],\n",
       "       [-3.23114741, -0.98138241, -0.91211669, -0.82583127],\n",
       "       ...,\n",
       "       [ 0.16770197,  0.46001881,  0.44185743,  0.39153921],\n",
       "       [ 0.08882298,  1.49282419,  1.43771023,  1.3424588 ],\n",
       "       [ 0.6903383 ,  0.79330811,  0.75114898,  0.68226769]])"
      ]
     },
     "execution_count": 13,
     "metadata": {},
     "output_type": "execute_result"
    }
   ],
   "source": [
    "X_train"
   ]
  },
  {
   "cell_type": "code",
   "execution_count": 14,
   "id": "61cef199-3a26-4247-9787-bcd2fda5fb3c",
   "metadata": {},
   "outputs": [
    {
     "data": {
      "text/plain": [
       "Date\n",
       "2022-09-16    1\n",
       "2022-06-22    1\n",
       "2020-03-20    0\n",
       "2019-10-28    0\n",
       "2023-12-13    1\n",
       "             ..\n",
       "2022-07-27    1\n",
       "2023-03-22    1\n",
       "2021-06-30    1\n",
       "2023-11-15    1\n",
       "2022-07-21    0\n",
       "Name: Label, Length: 1192, dtype: int32"
      ]
     },
     "execution_count": 14,
     "metadata": {},
     "output_type": "execute_result"
    }
   ],
   "source": [
    "y_train"
   ]
  },
  {
   "cell_type": "code",
   "execution_count": 16,
   "id": "43cfd480-33e6-47dc-a8a3-ea046a8cb8af",
   "metadata": {},
   "outputs": [
    {
     "data": {
      "text/plain": [
       "array([[-0.07972561,  0.73539397,  0.68878128,  0.66019247],\n",
       "       [ 0.27114405, -1.22513219, -1.23646186, -1.24363015],\n",
       "       [-0.55377326, -1.3230102 , -1.32678003, -1.32688522],\n",
       "       ...,\n",
       "       [-0.73621441,  1.24196512,  1.29859886,  1.30731314],\n",
       "       [-0.23752962,  0.76012994,  0.76019925,  0.7257697 ],\n",
       "       [-1.14485575,  0.77197751,  0.7204168 ,  0.73041142]])"
      ]
     },
     "execution_count": 16,
     "metadata": {},
     "output_type": "execute_result"
    }
   ],
   "source": [
    "X_test"
   ]
  },
  {
   "cell_type": "code",
   "execution_count": 17,
   "id": "2ad885be-f3c0-4ed5-848d-02eab4b29b5e",
   "metadata": {},
   "outputs": [
    {
     "data": {
      "text/plain": [
       "Date\n",
       "2021-10-25    1\n",
       "2019-04-05    1\n",
       "2019-02-28    1\n",
       "2021-02-26    1\n",
       "2019-10-01    0\n",
       "             ..\n",
       "2022-08-16    1\n",
       "2023-04-13    0\n",
       "2023-10-25    0\n",
       "2021-11-04    1\n",
       "2022-11-21    1\n",
       "Name: Label, Length: 298, dtype: int32"
      ]
     },
     "execution_count": 17,
     "metadata": {},
     "output_type": "execute_result"
    }
   ],
   "source": [
    "y_test"
   ]
  },
  {
   "cell_type": "code",
   "execution_count": 8,
   "id": "5a8c11c7-9794-48fa-8c1a-cda618448421",
   "metadata": {},
   "outputs": [],
   "source": [
    "from sklearn.svm import SVC\n",
    "from sklearn.neighbors import KNeighborsClassifier\n",
    "from sklearn.linear_model import LogisticRegression\n",
    "from sklearn.metrics import classification_report, accuracy_score\n",
    "\n",
    "\n",
    "svm = SVC()\n",
    "svm.fit(X_train, y_train)\n",
    "svm_pred = svm.predict(X_test)\n",
    "\n",
    "\n",
    "knn = KNeighborsClassifier(n_neighbors=5)\n",
    "knn.fit(X_train, y_train)\n",
    "knn_pred = knn.predict(X_test)\n",
    "\n",
    "\n",
    "logreg = LogisticRegression()\n",
    "logreg.fit(X_train, y_train)\n",
    "logreg_pred = logreg.predict(X_test)\n"
   ]
  },
  {
   "cell_type": "code",
   "execution_count": 9,
   "id": "be39d174-0c67-4340-9bd0-492de8e9d651",
   "metadata": {},
   "outputs": [
    {
     "name": "stdout",
     "output_type": "stream",
     "text": [
      "SVM Accuracy: 0.5604026845637584\n",
      "KNN Accuracy: 0.4664429530201342\n",
      "Logistic Regression Accuracy: 0.5671140939597316\n",
      "\n",
      "SVM Classification Report:\n",
      "               precision    recall  f1-score   support\n",
      "\n",
      "           0       0.67      0.07      0.13       136\n",
      "           1       0.55      0.97      0.71       162\n",
      "\n",
      "    accuracy                           0.56       298\n",
      "   macro avg       0.61      0.52      0.42       298\n",
      "weighted avg       0.61      0.56      0.44       298\n",
      "\n"
     ]
    }
   ],
   "source": [
    "print(\"SVM Accuracy:\", accuracy_score(y_test, svm_pred))\n",
    "print(\"KNN Accuracy:\", accuracy_score(y_test, knn_pred))\n",
    "print(\"Logistic Regression Accuracy:\", accuracy_score(y_test, logreg_pred))\n",
    "\n",
    "print(\"\\nSVM Classification Report:\\n\", classification_report(y_test, svm_pred))\n"
   ]
  },
  {
   "cell_type": "code",
   "execution_count": 10,
   "id": "aa13ba68-08d7-488d-abcf-50b17c41387f",
   "metadata": {},
   "outputs": [
    {
     "data": {
      "image/png": "[encoded data removed]",
      "text/plain": [
       "<Figure size 1400x600 with 1 Axes>"
      ]
     },
     "metadata": {},
     "output_type": "display_data"
    }
   ],
   "source": [
    "import matplotlib.pyplot as plt\n",
    "\n",
    "data['Prediction'] = 0\n",
    "data.iloc[-len(y_test):, data.columns.get_loc('Prediction')] = svm_pred\n",
    "\n",
    "plt.figure(figsize=(14, 6))\n",
    "plt.plot(data['Close'], label='Close Price')\n",
    "plt.plot(data['MA5'], label='MA5')\n",
    "plt.title('Stock Price and Moving Averages')\n",
    "plt.legend()\n",
    "plt.show()\n"
   ]
  },
  {
   "cell_type": "code",
   "execution_count": null,
   "id": "313b516f-ea00-4ffd-94b6-7cca67fa84b1",
   "metadata": {},
   "outputs": [],
   "source": []
  }
 ],
 "metadata": {
  "kernelspec": {
   "display_name": "Python 3 (ipykernel)",
   "language": "python",
   "name": "python3"
  },
  "language_info": {
   "codemirror_mode": {
    "name": "ipython",
    "version": 3
   },
   "file_extension": ".py",
   "mimetype": "text/x-python",
   "name": "python",
   "nbconvert_exporter": "python",
   "pygments_lexer": "ipython3",
   "version": "3.12.8"
  }
 },
 "nbformat": 4,
 "nbformat_minor": 5
}
